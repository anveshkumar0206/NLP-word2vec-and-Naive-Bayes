{
  "cells": [
    {
      "cell_type": "code",
      "execution_count": null,
      "id": "fb7fcc94-6389-4267-83a3-5bd6768fe6bd",
      "metadata": {
        "colab": {
          "base_uri": "https://localhost:8080/"
        },
        "id": "fb7fcc94-6389-4267-83a3-5bd6768fe6bd",
        "outputId": "2943d150-bd9f-4959-bdaa-415d1c2ef2e8"
      },
      "outputs": [
        {
          "output_type": "stream",
          "name": "stdout",
          "text": [
            "\u001b[2K     \u001b[90m━━━━━━━━━━━━━━━━━━━━━━━━━━━━━━━━━━━━━━━━\u001b[0m \u001b[32m60.8/60.8 kB\u001b[0m \u001b[31m2.8 MB/s\u001b[0m eta \u001b[36m0:00:00\u001b[0m\n",
            "\u001b[2K   \u001b[90m━━━━━━━━━━━━━━━━━━━━━━━━━━━━━━━━━━━━━━━━\u001b[0m \u001b[32m41.2/41.2 MB\u001b[0m \u001b[31m19.7 MB/s\u001b[0m eta \u001b[36m0:00:00\u001b[0m\n",
            "\u001b[?25h\u001b[31mERROR: pip's dependency resolver does not currently take into account all the packages that are installed. This behaviour is the source of the following dependency conflicts.\n",
            "gensim 4.3.3 requires scipy<1.14.0,>=1.7.0, but you have scipy 1.14.1 which is incompatible.\u001b[0m\u001b[31m\n",
            "\u001b[0m"
          ]
        }
      ],
      "source": [
        "pip install --upgrade scipy --quiet\n"
      ]
    },
    {
      "cell_type": "code",
      "execution_count": null,
      "id": "4ff9eeab-591f-438e-a095-de2e8b9be532",
      "metadata": {
        "colab": {
          "base_uri": "https://localhost:8080/"
        },
        "id": "4ff9eeab-591f-438e-a095-de2e8b9be532",
        "outputId": "d1bf3ef9-5d75-4529-e4af-d8b53033d549"
      },
      "outputs": [
        {
          "output_type": "stream",
          "name": "stdout",
          "text": [
            "\u001b[2K     \u001b[90m━━━━━━━━━━━━━━━━━━━━━━━━━━━━━━━━━━━━━━━━\u001b[0m \u001b[32m60.9/60.9 kB\u001b[0m \u001b[31m1.2 MB/s\u001b[0m eta \u001b[36m0:00:00\u001b[0m\n",
            "\u001b[2K     \u001b[90m━━━━━━━━━━━━━━━━━━━━━━━━━━━━━━━━━━━━━━━━\u001b[0m \u001b[32m60.6/60.6 kB\u001b[0m \u001b[31m2.1 MB/s\u001b[0m eta \u001b[36m0:00:00\u001b[0m\n",
            "\u001b[2K   \u001b[90m━━━━━━━━━━━━━━━━━━━━━━━━━━━━━━━━━━━━━━━━\u001b[0m \u001b[32m38.6/38.6 MB\u001b[0m \u001b[31m13.1 MB/s\u001b[0m eta \u001b[36m0:00:00\u001b[0m\n",
            "\u001b[?25h"
          ]
        }
      ],
      "source": [
        "pip install --upgrade gensim numpy --quiet"
      ]
    },
    {
      "cell_type": "markdown",
      "source": [
        "Step 1: Load the Wikipedia GLoVE Word2Vec."
      ],
      "metadata": {
        "id": "s464c-czynkS"
      },
      "id": "s464c-czynkS"
    },
    {
      "cell_type": "code",
      "execution_count": null,
      "id": "3ec75fde-a509-4028-9a10-875ae24b010a",
      "metadata": {
        "colab": {
          "base_uri": "https://localhost:8080/"
        },
        "id": "3ec75fde-a509-4028-9a10-875ae24b010a",
        "outputId": "ca319c75-7a11-43cd-acc0-f2a7e1bf3f66"
      },
      "outputs": [
        {
          "output_type": "stream",
          "name": "stdout",
          "text": [
            "Loaded GloVe model with 400000 words.\n"
          ]
        }
      ],
      "source": [
        "from gensim.models import KeyedVectors\n",
        "import numpy as np\n",
        "\n",
        "def load_glove_model(glove_file_path):\n",
        "    \"\"\"Load the GloVe model into a gensim KeyedVectors model format.\"\"\"\n",
        "    # Initialize an empty dictionary to store the word vectors\n",
        "    glove_dict = {}\n",
        "\n",
        "    with open(glove_file_path, 'r', encoding=\"utf-8\") as f:\n",
        "        for line in f:\n",
        "            split_line = line.split()\n",
        "            word = split_line[0]\n",
        "            vector = np.array(split_line[1:], dtype='float32')\n",
        "            glove_dict[word] = vector\n",
        "\n",
        "    # Load the dictionary into gensim KeyedVectors\n",
        "    model = KeyedVectors(vector_size=len(vector))\n",
        "    model.add_vectors(list(glove_dict.keys()), list(glove_dict.values()))\n",
        "\n",
        "    return model\n",
        "\n",
        "# Specify the path to your GLoVe file\n",
        "glove_file = \"glove.6B.50d.txt\"  # Update this path\n",
        "\n",
        "# Load the GLoVe model\n",
        "model = load_glove_model(glove_file)\n",
        "print(\"Loaded GloVe model with\", len(model.key_to_index), \"words.\")\n"
      ]
    },
    {
      "cell_type": "code",
      "execution_count": null,
      "id": "0f98ff33-92e9-4857-9c97-3eace6b5b57f",
      "metadata": {
        "colab": {
          "base_uri": "https://localhost:8080/"
        },
        "id": "0f98ff33-92e9-4857-9c97-3eace6b5b57f",
        "outputId": "4bf4ac36-3de3-44ad-ffb2-348a6e1f3284"
      },
      "outputs": [
        {
          "output_type": "stream",
          "name": "stdout",
          "text": [
            "Similarity between 'man' and 'woman': 0.8860338\n",
            "Similarity between 'chair' and 'throne': 0.2796809\n",
            "Similarity between 'water' and 'baby': 0.40810367\n"
          ]
        }
      ],
      "source": [
        "# Ensure words are in the model vocabulary to avoid errors\n",
        "def safe_similarity(word1, word2, model):\n",
        "    if word1 in model and word2 in model:\n",
        "        return model.similarity(word1, word2)\n",
        "    else:\n",
        "        return None\n",
        "\n",
        "print(\"Similarity between 'man' and 'woman':\", safe_similarity(\"man\", \"woman\", model))\n",
        "print(\"Similarity between 'chair' and 'throne':\", safe_similarity(\"chair\", \"throne\", model))\n",
        "print(\"Similarity between 'water' and 'baby':\", safe_similarity(\"water\", \"baby\", model))\n"
      ]
    },
    {
      "cell_type": "markdown",
      "source": [
        "Step 3: Using these provide analogies"
      ],
      "metadata": {
        "id": "caTLufEGyNII"
      },
      "id": "caTLufEGyNII"
    },
    {
      "cell_type": "code",
      "execution_count": null,
      "id": "aa03f050-c3d2-4883-8dca-d806593dba65",
      "metadata": {
        "colab": {
          "base_uri": "https://localhost:8080/"
        },
        "id": "aa03f050-c3d2-4883-8dca-d806593dba65",
        "outputId": "18960d03-e41e-4356-a442-ee8943d375ed"
      },
      "outputs": [
        {
          "output_type": "stream",
          "name": "stdout",
          "text": [
            "_____ is to King as Woman is to Man: queen\n",
            "_____ is to Princess as Man is to Woman: prince\n",
            "_____ is to a Woman as a Child is to an Adult: mother\n"
          ]
        }
      ],
      "source": [
        "# _____ is to King as Woman is to Man\n",
        "analogy_king_man = model.most_similar(positive=['king', 'woman'], negative=['man'], topn=1)\n",
        "print(\"_____ is to King as Woman is to Man:\", analogy_king_man[0][0])\n",
        "\n",
        "# _____ is to Princess as Man is to Woman\n",
        "analogy_princess_woman = model.most_similar(positive=['princess', 'man'], negative=['woman'], topn=1)\n",
        "print(\"_____ is to Princess as Man is to Woman:\", analogy_princess_woman[0][0])\n",
        "\n",
        "# _____ is to a Woman as a Child is to an Adult\n",
        "analogy_woman_child = model.most_similar(positive=['woman', 'child'], negative=['adult'], topn=1)\n",
        "print(\"_____ is to a Woman as a Child is to an Adult:\", analogy_woman_child[0][0])\n"
      ]
    },
    {
      "cell_type": "markdown",
      "source": [
        "Step 4: Apply Naive-Bayes Classifier on the Spam-Ham dataset"
      ],
      "metadata": {
        "id": "BOh7HF1vyD_d"
      },
      "id": "BOh7HF1vyD_d"
    },
    {
      "cell_type": "code",
      "execution_count": null,
      "id": "d5b982b9-ab63-4287-a19d-788d0e8b937d",
      "metadata": {
        "id": "d5b982b9-ab63-4287-a19d-788d0e8b937d"
      },
      "outputs": [],
      "source": [
        "!pip install scipy --quiet"
      ]
    },
    {
      "cell_type": "code",
      "execution_count": null,
      "id": "799ad404-b2f5-4a89-a57d-d8e7b1178b7b",
      "metadata": {
        "id": "799ad404-b2f5-4a89-a57d-d8e7b1178b7b"
      },
      "outputs": [],
      "source": [
        "!pip install sklearn-pandas --quiet"
      ]
    },
    {
      "cell_type": "code",
      "execution_count": null,
      "id": "1a2a2bc2-6f09-44a5-85f5-8307f3dd3cb4",
      "metadata": {
        "id": "1a2a2bc2-6f09-44a5-85f5-8307f3dd3cb4"
      },
      "outputs": [],
      "source": [
        "!pip install scikit-plot --quiet"
      ]
    },
    {
      "cell_type": "code",
      "execution_count": null,
      "id": "8dc787fb-8450-4bfc-a4f5-249b7717907c",
      "metadata": {
        "colab": {
          "base_uri": "https://localhost:8080/"
        },
        "id": "8dc787fb-8450-4bfc-a4f5-249b7717907c",
        "outputId": "b27a8806-67f7-4db4-8b6a-41c2ee42752a"
      },
      "outputs": [
        {
          "output_type": "stream",
          "name": "stderr",
          "text": [
            "[nltk_data] Downloading package stopwords to /root/nltk_data...\n",
            "[nltk_data]   Unzipping corpora/stopwords.zip.\n"
          ]
        },
        {
          "output_type": "execute_result",
          "data": {
            "text/plain": [
              "True"
            ]
          },
          "metadata": {},
          "execution_count": 9
        }
      ],
      "source": [
        "import torch\n",
        "import numpy as np\n",
        "import seaborn as sns\n",
        "from scipy.spatial.distance import cosine\n",
        "from sklearn_pandas import DataFrameMapper\n",
        "from sklearn.model_selection import cross_val_score\n",
        "import pandas as pd\n",
        "import re\n",
        "#import scikitplot as skplt\n",
        "from numpy import interp\n",
        "import matplotlib.pyplot as plt\n",
        "import string\n",
        "from nltk.corpus import stopwords\n",
        "from sklearn.model_selection import train_test_split\n",
        "from sklearn.feature_extraction.text import CountVectorizer\n",
        "from sklearn import svm\n",
        "from sklearn.metrics import accuracy_score, confusion_matrix, classification_report\n",
        "from sklearn.naive_bayes import MultinomialNB\n",
        "from nltk.stem import PorterStemmer\n",
        "import nltk\n",
        "nltk.download('stopwords')\n"
      ]
    },
    {
      "cell_type": "code",
      "execution_count": null,
      "id": "c9be05bc-c578-4ae9-aee1-26827d46b8ec",
      "metadata": {
        "id": "c9be05bc-c578-4ae9-aee1-26827d46b8ec"
      },
      "outputs": [],
      "source": [
        "# Initialize stemmer\n",
        "stemmer = PorterStemmer()\n",
        "\n",
        "# Emotion list for feature engineering\n",
        "emotions_list = [\":)\", \":(\", \":p\", \":D\", \"-_-\", \":o\"]\n",
        "\n",
        "# Function to categorize message length\n",
        "def char_flag(l):\n",
        "    if l <= 40:\n",
        "        return 1\n",
        "    elif l <= 60:\n",
        "        return 2\n",
        "    elif l <= 80:\n",
        "        return 3\n",
        "    elif l <= 120:\n",
        "        return 4\n",
        "    elif l <= 160:\n",
        "        return 5\n",
        "    else:\n",
        "        return 6\n",
        "\n",
        "# Text processing function\n",
        "stop_words = []\n",
        "def text_process(mess):\n",
        "    no_punct = re.sub('[^A-Za-z ]+', '', mess.lower())\n",
        "    return np.array([stemmer.stem(word) for word in no_punct.split() if word not in stop_words])\n",
        "\n",
        "# Data preprocessing\n",
        "def preprocessing_text():\n",
        "    for d, ln in zip(messages_data, token_4):\n",
        "        token_1.append(d)\n",
        "        token_2.append(d.count('$'))\n",
        "        x = re.sub('[^0-9 ]+', '', d.lower())\n",
        "        token_3.append(len(x))\n",
        "        token_5.append(char_flag(ln))\n",
        "        if re.sub(r'[^://@]', '', d.lower()) != '':\n",
        "            token_6.append(1)\n",
        "        else:\n",
        "            token_6.append(0)\n",
        "        token_7.append(len(x.split()))\n",
        "        for emoji in emotions_list:\n",
        "            if re.search(re.escape(emoji), d):\n",
        "                token_8.append(1)\n",
        "            else:\n",
        "                token_8.append(0)\n",
        "    return np.array(\n",
        "        [np.array([token_1[i], token_2[i], token_3[i], token_4[i], token_5[i], token_6[i],\n",
        "                   token_7[i], token_8[i]], dtype=object) for i in range(len(messages_data))]\n",
        "    )\n",
        "\n"
      ]
    },
    {
      "cell_type": "code",
      "execution_count": null,
      "id": "d4f354ed-7b40-4f02-99d8-44c9e02b4f4a",
      "metadata": {
        "id": "d4f354ed-7b40-4f02-99d8-44c9e02b4f4a"
      },
      "outputs": [],
      "source": [
        "# Data mapper function\n",
        "def data_mapper():\n",
        "    data = preprocessing_text()\n",
        "    labels = ['message', 'f1', 'f2', 'f3', 'f4', 'f5', 'f6', 'f7']\n",
        "    df = pd.DataFrame.from_records(data, columns=labels)\n",
        "    mapper = DataFrameMapper([\n",
        "        (['f1', 'f2', 'f3', 'f4', 'f5', 'f6', 'f7'], None),\n",
        "        ('message', CountVectorizer(analyzer=text_process, ngram_range=(2, 2)))\n",
        "    ])\n",
        "    X = mapper.fit_transform(df)\n",
        "    return X"
      ]
    },
    {
      "cell_type": "code",
      "execution_count": null,
      "id": "5bfa52df-2e78-4990-8a9d-7d8b08f2087a",
      "metadata": {
        "id": "5bfa52df-2e78-4990-8a9d-7d8b08f2087a"
      },
      "outputs": [],
      "source": [
        "# Main code execution\n",
        "if __name__ == \"__main__\":\n",
        "    # Load the dataset\n",
        "    messages = pd.read_csv(\"spam.csv\", encoding='latin-1')\n",
        "    messages = messages.drop(columns=['Unnamed: 2', 'Unnamed: 3', 'Unnamed: 4'])\n",
        "    messages['length'] = messages['v2'].apply(len)\n",
        "    messages_data = messages['v2']\n",
        "    messages_labels = messages['v1']"
      ]
    },
    {
      "cell_type": "code",
      "execution_count": null,
      "id": "79d260ee-e3f4-49b7-9fb5-753bdd1795ec",
      "metadata": {
        "id": "79d260ee-e3f4-49b7-9fb5-753bdd1795ec"
      },
      "outputs": [],
      "source": [
        "# Initialize tokens\n",
        "token_1 = []\n",
        "token_2 = []\n",
        "token_3 = []\n",
        "token_4 = messages['length']\n",
        "token_5 = []\n",
        "token_6 = []\n",
        "token_7 = []\n",
        "token_8 = []"
      ]
    },
    {
      "cell_type": "code",
      "execution_count": null,
      "id": "01f0ccd6-0ab6-4ff4-bba4-7736693a853f",
      "metadata": {
        "id": "01f0ccd6-0ab6-4ff4-bba4-7736693a853f"
      },
      "outputs": [],
      "source": [
        "# Set stop words\n",
        "freq = pd.Series(' '.join(messages_data).split()).value_counts()\n",
        "stop_words = stopwords.words('english')\n",
        "stop_words.extend(freq[-9268:].index)  # Extend stop words list"
      ]
    },
    {
      "cell_type": "code",
      "execution_count": null,
      "id": "457d7c23-7941-4d4b-a5a7-aa9e36b3e4b5",
      "metadata": {
        "colab": {
          "base_uri": "https://localhost:8080/"
        },
        "id": "457d7c23-7941-4d4b-a5a7-aa9e36b3e4b5",
        "outputId": "0a5b31bd-cafc-4df7-b74a-a268a63e0a74"
      },
      "outputs": [
        {
          "output_type": "stream",
          "name": "stderr",
          "text": [
            "/usr/local/lib/python3.10/dist-packages/sklearn/feature_extraction/text.py:537: UserWarning: The parameter 'ngram_range' will not be used since 'analyzer' is callable'\n",
            "  warnings.warn(\n"
          ]
        },
        {
          "output_type": "stream",
          "name": "stdout",
          "text": [
            "\n",
            "\n",
            "Acurracy of Naive-Bayes Classifier: 0.98\n",
            "validation scores of Naive-Bayes Classifier:  [0.98393574 0.9772423  0.98393574 0.98659517 0.97989276]\n"
          ]
        }
      ],
      "source": [
        "    # Map data\n",
        "mapped_data = data_mapper()\n",
        "\n",
        "    # Split dataset\n",
        "trainset, testset, trainlabel, testlabel = train_test_split(mapped_data, messages_labels, test_size=0.33, random_state=42)\n",
        "\n",
        "    # Apply Naive Bayes Classifier\n",
        "NB = MultinomialNB()\n",
        "NB.fit(trainset, trainlabel)\n",
        "predicted_values_nb = NB.predict(testset)\n",
        "\n",
        "    # Accuracy\n",
        "accuracy_NB = accuracy_score(testlabel, predicted_values_nb)\n",
        "\n",
        "    # Cross-validation\n",
        "clf_nb = MultinomialNB()\n",
        "scores_nb = cross_val_score(clf_nb, trainset, trainlabel, cv=5)\n",
        "print ('\\n')\n",
        "print(f\"Acurracy of Naive-Bayes Classifier: {accuracy_NB:.2f}\")\n",
        "print(\"validation scores of Naive-Bayes Classifier: \", scores_nb)"
      ]
    },
    {
      "cell_type": "code",
      "source": [
        "# Generate classification report\n",
        "report_NB = classification_report(testlabel, predicted_values_nb, target_names=[\"ham\", \"spam\"])\n",
        "print(\"Classification Report for Naive-Bayes Classifier:\\n\", report_NB)"
      ],
      "metadata": {
        "colab": {
          "base_uri": "https://localhost:8080/"
        },
        "id": "AyHq4z3e8Jq7",
        "outputId": "e28eb751-5554-45d9-f2df-d1a4bf7ab0b9"
      },
      "id": "AyHq4z3e8Jq7",
      "execution_count": null,
      "outputs": [
        {
          "output_type": "stream",
          "name": "stdout",
          "text": [
            "Classification Report for Naive-Bayes Classifier:\n",
            "               precision    recall  f1-score   support\n",
            "\n",
            "         ham       0.99      0.99      0.99      1587\n",
            "        spam       0.96      0.92      0.94       252\n",
            "\n",
            "    accuracy                           0.98      1839\n",
            "   macro avg       0.97      0.96      0.97      1839\n",
            "weighted avg       0.98      0.98      0.98      1839\n",
            "\n"
          ]
        }
      ]
    },
    {
      "cell_type": "code",
      "source": [
        "# Assuming `testlabel` and `predicted_values_nb` are your actual and predicted labels\n",
        "conf_matrix = confusion_matrix(testlabel, predicted_values_nb, labels=[\"ham\", \"spam\"])\n",
        "\n",
        "# Plot without normalization\n",
        "sns.heatmap(conf_matrix, annot=True, fmt=\"d\", cmap=\"Blues\", xticklabels=[\"ham\", \"spam\"], yticklabels=[\"ham\", \"spam\"])\n",
        "plt.title(\"Confusion Matrix - Without Normalization\")\n",
        "plt.xlabel(\"Predicted Label\")\n",
        "plt.ylabel(\"True Label\")\n",
        "plt.show()\n",
        "\n",
        "# Plot with normalization\n",
        "conf_matrix_normalized = confusion_matrix(testlabel, predicted_values_nb, labels=[\"ham\", \"spam\"], normalize='true')\n",
        "sns.heatmap(conf_matrix_normalized, annot=True, fmt=\".2f\", cmap=\"Blues\", xticklabels=[\"ham\", \"spam\"], yticklabels=[\"ham\", \"spam\"])\n",
        "plt.title(\"Confusion Matrix - With Normalization\")\n",
        "plt.xlabel(\"Predicted Label\")\n",
        "plt.ylabel(\"True Label\")\n",
        "plt.show()\n"
      ],
      "metadata": {
        "colab": {
          "base_uri": "https://localhost:8080/",
          "height": 927
        },
        "id": "bJN8mhRvvmey",
        "outputId": "e4dc31bc-c96a-44f0-be84-cf5cafc348f9"
      },
      "id": "bJN8mhRvvmey",
      "execution_count": null,
      "outputs": [
        {
          "output_type": "display_data",
          "data": {
            "text/plain": [
              "<Figure size 640x480 with 2 Axes>"
            ],
            "image/png": "[encoded data removed]"
          },
          "metadata": {}
        },
        {
          "output_type": "display_data",
          "data": {
            "text/plain": [
              "<Figure size 640x480 with 2 Axes>"
            ],
            "image/png": "[encoded data removed]"
          },
          "metadata": {}
        }
      ]
    },
    {
      "cell_type": "code",
      "source": [],
      "metadata": {
        "id": "v11JM-ziweg3"
      },
      "id": "v11JM-ziweg3",
      "execution_count": null,
      "outputs": []
    }
  ],
  "metadata": {
    "kernelspec": {
      "display_name": "Python 3 (ipykernel)",
      "language": "python",
      "name": "python3"
    },
    "language_info": {
      "codemirror_mode": {
        "name": "ipython",
        "version": 3
      },
      "file_extension": ".py",
      "mimetype": "text/x-python",
      "name": "python",
      "nbconvert_exporter": "python",
      "pygments_lexer": "ipython3",
      "version": "3.12.4"
    },
    "colab": {
      "provenance": []
    }
  },
  "nbformat": 4,
  "nbformat_minor": 5
}